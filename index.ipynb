{
 "cells": [
  {
   "cell_type": "markdown",
   "metadata": {},
   "source": [
    "# Systems of Linear Equations - Lab\n",
    "\n",
    "## Introduction\n",
    "The following scenarios present problems that can be solved as a system of equations while performing substitutions and eliminations as you saw in the previous lesson.\n",
    "\n",
    "* Solve these problems by hand, showing all the steps to work out the unknown variable values \n",
    "* Verify your answers by showing the calculated values satisfy all equations\n",
    "\n",
    "## Objectives\n",
    "\n",
    "In this lab you will: \n",
    "\n",
    "- Solve a system of equations using elimination and substitution\n",
    "\n",
    "## Exercise 1\n",
    "Jane paid 12 dollars for 4 cups of coffee and 4 cups of tea. 3 cups of coffee cost as much as 2 cups of tea. What would be the total cost of 5 cups of coffee and 5 cups of tea?\n",
    "\n",
    "### Solution\n",
    "\n",
    "> Let $x$ be the unit price of coffee and $y$ be the unit price of tea"
   ]
  },
  {
   "cell_type": "code",
   "execution_count": 2,
   "metadata": {},
   "outputs": [
    {
     "data": {
      "text/plain": [
       "'\\nA) 4c + 4t = 12\\nB) 3c - 2t = 0\\n\\nFrom A:\\nc + t = 3\\nc = 3-t\\n\\nsubstituting t in B:\\n3(3-t) - 2t = 0\\n9 - 3t - 2t = 0\\n9 - 5t = 0\\n9 = 5t\\n9/5 = t\\n1.8 = t\\n\\nsubstituting value of t in A:\\n4c + 4(1.8) =12\\n4c + 7.2 = 12\\n4c = 4.8\\nc = 1.2\\n\\nC) 5c + 5t = x\\n5(1.2) + 5(1.8) = x\\n6 + 9 = 15\\n\\n'"
      ]
     },
     "execution_count": 2,
     "metadata": {},
     "output_type": "execute_result"
    }
   ],
   "source": [
    "# Your solution here \n",
    "# Answer: 5 cups of tea and 5 cups of coffee = 15 dollars\n",
    "\n",
    "\"\"\"\n",
    "A) 4c + 4t = 12\n",
    "B) 3c - 2t = 0\n",
    "\n",
    "From A:\n",
    "c + t = 3\n",
    "c = 3-t\n",
    "\n",
    "substituting t in B:\n",
    "3(3-t) - 2t = 0\n",
    "9 - 3t - 2t = 0\n",
    "9 - 5t = 0\n",
    "9 = 5t\n",
    "9/5 = t\n",
    "1.8 = t\n",
    "\n",
    "substituting value of t in A:\n",
    "4c + 4(1.8) =12\n",
    "4c + 7.2 = 12\n",
    "4c = 4.8\n",
    "c = 1.2\n",
    "\n",
    "C) 5c + 5t = x\n",
    "5(1.2) + 5(1.8) = x\n",
    "6 + 9 = 15\n",
    "\n",
    "\"\"\""
   ]
  },
  {
   "cell_type": "markdown",
   "metadata": {},
   "source": [
    "## Exercise 2\n",
    "\n",
    "Jim has more money than Bob. If Jim gave Bob 20 dollars, they would have the same amount. If Bob gave Jim 22 dollars, however, Jim would then have twice as much as Bob. \n",
    "\n",
    "How much does each one actually have?\n",
    "\n",
    "### Solution\n",
    "> Let x be the amount of money that Jim has and y be the amount that Bob has "
   ]
  },
  {
   "cell_type": "code",
   "execution_count": null,
   "metadata": {},
   "outputs": [],
   "source": [
    "# Your solution here \n",
    "# Answer:\n",
    "# y = 106 (Bob's amount)\n",
    "# x = 146 (Jim's amount)\n",
    "\n",
    "\n",
    "\"\"\"\n",
    "A) x - 20 = y + 20\n",
    "B) x + 22 = 2(y - 22)\n",
    "\n",
    "From A:\n",
    "x = y + 40\n",
    "\n",
    "Substituting y for x in B:\n",
    "y + 40 + 22 = 2(y-22)\n",
    "y + 62 = 2y - 44\n",
    "106 = y (Bob's amount)\n",
    "\n",
    "Substituting value of y in A:\n",
    "x - 20 = 106 + 20\n",
    "x = 146 (Jim's amount)\n",
    "\n",
    "\"\"\""
   ]
  },
  {
   "cell_type": "markdown",
   "metadata": {},
   "source": [
    "## Exercise 3\n",
    "\n",
    "Mia has 30 coins, consisting of quarters (25 cents) and dimes (10 cents), which totals to the amount 5.70 dollars.  \n",
    "How many of each does she have?\n",
    "\n",
    "### Solution\n",
    "\n",
    "> Let x be the number of quarters and y be the number of dimes "
   ]
  },
  {
   "cell_type": "code",
   "execution_count": null,
   "metadata": {},
   "outputs": [],
   "source": [
    "# Your solution here \n",
    "# Answer:\n",
    "# x = 18 quarters\n",
    "# y = 12 dimes\n",
    "\n",
    "\"\"\"  \n",
    "A) x + y = 30\n",
    "B) .25x + .10y = 5.7\n",
    "\n",
    "From A)\n",
    "-10x - 10y = -300\n",
    "\n",
    "From B)\n",
    "25x + 10y = 570\n",
    "\n",
    "Add A and B)\n",
    "15x = 270\n",
    "x = 18 (number of quarters)\n",
    "\n",
    "\n",
    "Substituting x for y in A)\n",
    "18 + y = 30\n",
    "y = 12 (number of dimes)\n",
    "\n",
    "\"\"\"\n"
   ]
  },
  {
   "cell_type": "markdown",
   "metadata": {},
   "source": [
    "## Level up (Optional)\n",
    "For more practice with linear equations, visit the following links for more complex equations:\n",
    "\n",
    "* https://www.transum.org/software/SW/Starter_of_the_day/Students/Simultaneous_Equations.asp?Level=6\n",
    "* https://www.transum.org/software/SW/Starter_of_the_day/Students/Simultaneous_Equations.asp?Level=7\n",
    "\n",
    "## Summary\n",
    "\n",
    "In this lesson, you learned how to solve linear equations by hand to find the coefficient values. You'll now move forward to have a deeper look into vectors and matrices and how Python and NumPy can help us solve more complex equations in an analytical context. "
   ]
  }
 ],
 "metadata": {
  "kernelspec": {
   "display_name": "Python 3",
   "language": "python",
   "name": "python3"
  },
  "language_info": {
   "codemirror_mode": {
    "name": "ipython",
    "version": 3
   },
   "file_extension": ".py",
   "mimetype": "text/x-python",
   "name": "python",
   "nbconvert_exporter": "python",
   "pygments_lexer": "ipython3",
   "version": "3.6.9"
  }
 },
 "nbformat": 4,
 "nbformat_minor": 2
}
